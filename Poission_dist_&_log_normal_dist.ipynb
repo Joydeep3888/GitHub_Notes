{
 "cells": [
  {
   "cell_type": "code",
   "execution_count": 1,
   "id": "e966c8cf",
   "metadata": {},
   "outputs": [],
   "source": [
    "\n",
    "import numpy as np\n",
    "import pandas as pd\n",
    "import seaborn as sns\n",
    "import matplotlib.pyplot as plt\n",
    "\n",
    "from scipy.stats import poisson, binom\n",
    "\n"
   ]
  },
  {
   "cell_type": "code",
   "execution_count": 6,
   "id": "968949b1",
   "metadata": {},
   "outputs": [
    {
     "name": "stdout",
     "output_type": "stream",
     "text": [
      "Collecting gdown\n",
      "  Downloading gdown-5.1.0-py3-none-any.whl.metadata (5.7 kB)\n",
      "Requirement already satisfied: beautifulsoup4 in c:\\users\\bt76\\appdata\\local\\anaconda3\\lib\\site-packages (from gdown) (4.12.2)\n",
      "Requirement already satisfied: filelock in c:\\users\\bt76\\appdata\\local\\anaconda3\\lib\\site-packages (from gdown) (3.9.0)\n",
      "Requirement already satisfied: requests[socks] in c:\\users\\bt76\\appdata\\local\\anaconda3\\lib\\site-packages (from gdown) (2.31.0)\n",
      "Requirement already satisfied: tqdm in c:\\users\\bt76\\appdata\\local\\anaconda3\\lib\\site-packages (from gdown) (4.65.0)\n",
      "Requirement already satisfied: soupsieve>1.2 in c:\\users\\bt76\\appdata\\local\\anaconda3\\lib\\site-packages (from beautifulsoup4->gdown) (2.4)\n",
      "Requirement already satisfied: charset-normalizer<4,>=2 in c:\\users\\bt76\\appdata\\local\\anaconda3\\lib\\site-packages (from requests[socks]->gdown) (2.0.4)\n",
      "Requirement already satisfied: idna<4,>=2.5 in c:\\users\\bt76\\appdata\\local\\anaconda3\\lib\\site-packages (from requests[socks]->gdown) (3.4)\n",
      "Requirement already satisfied: urllib3<3,>=1.21.1 in c:\\users\\bt76\\appdata\\local\\anaconda3\\lib\\site-packages (from requests[socks]->gdown) (1.26.16)\n",
      "Requirement already satisfied: certifi>=2017.4.17 in c:\\users\\bt76\\appdata\\local\\anaconda3\\lib\\site-packages (from requests[socks]->gdown) (2023.7.22)\n",
      "Requirement already satisfied: PySocks!=1.5.7,>=1.5.6 in c:\\users\\bt76\\appdata\\local\\anaconda3\\lib\\site-packages (from requests[socks]->gdown) (1.7.1)\n",
      "Requirement already satisfied: colorama in c:\\users\\bt76\\appdata\\local\\anaconda3\\lib\\site-packages (from tqdm->gdown) (0.4.6)\n",
      "Downloading gdown-5.1.0-py3-none-any.whl (17 kB)\n",
      "Installing collected packages: gdown\n",
      "Successfully installed gdown-5.1.0\n",
      "Note: you may need to restart the kernel to use updated packages.\n"
     ]
    }
   ],
   "source": [
    "pip install gdown"
   ]
  },
  {
   "cell_type": "code",
   "execution_count": null,
   "id": "4e7c2ceb",
   "metadata": {},
   "outputs": [],
   "source": []
  },
  {
   "cell_type": "code",
   "execution_count": 12,
   "id": "15fa39c3",
   "metadata": {},
   "outputs": [
    {
     "data": {
      "text/plain": [
       "0.10081881344492458"
      ]
     },
     "execution_count": 12,
     "metadata": {},
     "output_type": "execute_result"
    }
   ],
   "source": [
    "\n",
    "#Accident example:\n",
    "# A city sees 3 accidents per day on average.\n",
    "# Find the probability that there will be 5 accidents tomorrow.\n",
    "\n",
    "poisson.pmf(k=5, mu=3)"
   ]
  },
  {
   "cell_type": "code",
   "execution_count": 13,
   "id": "e8d91ef3",
   "metadata": {},
   "outputs": [
    {
     "data": {
      "text/plain": [
       "0.9160820579686966"
      ]
     },
     "execution_count": 13,
     "metadata": {},
     "output_type": "execute_result"
    }
   ],
   "source": [
    "\n",
    "#Follow up: Find the probability that there will be 5 or fewer accidents tomorrow.\n",
    "\n",
    "poisson.cdf(k=5, mu=3)"
   ]
  },
  {
   "cell_type": "code",
   "execution_count": 14,
   "id": "2ced2804",
   "metadata": {},
   "outputs": [
    {
     "data": {
      "text/plain": [
       "0.11259903214902009"
      ]
     },
     "execution_count": 14,
     "metadata": {},
     "output_type": "execute_result"
    }
   ],
   "source": [
    "\n",
    "# Quiz:\n",
    "# It is known that a certain website makes 10 sales per hour.\n",
    "# In a given hour, what is the probability that the site makes exactly 8 sales?\n",
    "\n",
    "poisson.pmf(k=8, mu=10)"
   ]
  },
  {
   "cell_type": "code",
   "execution_count": 15,
   "id": "4221ca4c",
   "metadata": {},
   "outputs": [
    {
     "data": {
      "text/plain": [
       "0.1991482734714558"
      ]
     },
     "execution_count": 15,
     "metadata": {},
     "output_type": "execute_result"
    }
   ],
   "source": [
    "#Typos ex:\n",
    "\n",
    "# Let “X” be the number of typos in a page in a printed book, with mean of 3 typos per page.\n",
    "# What is the probability that a randomly selected page has atmost 1 typo?\n",
    "\n",
    "poisson.cdf(k=1, mu=3)"
   ]
  },
  {
   "cell_type": "code",
   "execution_count": 17,
   "id": "642c7fac",
   "metadata": {},
   "outputs": [
    {
     "data": {
      "text/plain": [
       "0.24902769151284776"
      ]
     },
     "execution_count": 17,
     "metadata": {},
     "output_type": "execute_result"
    }
   ],
   "source": [
    "\n",
    "# The shop is open for 8 hours. The average number of customers is 74 - assume Poisson distributed.\n",
    "# What is the probability that in 2 hours, there will be at most 15 customers?\n",
    "mu=(74/8)*2\n",
    "poisson.cdf(k=15, mu=mu)"
   ]
  },
  {
   "cell_type": "code",
   "execution_count": 19,
   "id": "0c8357bd",
   "metadata": {},
   "outputs": [
    {
     "data": {
      "text/plain": [
       "0.9992622541111789"
      ]
     },
     "execution_count": 19,
     "metadata": {},
     "output_type": "execute_result"
    }
   ],
   "source": [
    "# Follow up:\n",
    "#  The shop is open for 8 hours. The average number of customers is 74 - assume Poisson distributed.\n",
    "# What is the probability that in 2 hours, there will be at least 7 customers?\n",
    "\n",
    "mu=(74/8)*2\n",
    "1-poisson.cdf(k=6, mu=mu)"
   ]
  },
  {
   "cell_type": "code",
   "execution_count": 20,
   "id": "f2c35455",
   "metadata": {},
   "outputs": [
    {
     "data": {
      "text/plain": [
       "0.6288369351798734"
      ]
     },
     "execution_count": 20,
     "metadata": {},
     "output_type": "execute_result"
    }
   ],
   "source": [
    "# It is known that a certain hospital experience 4 births per hour.\n",
    "# In a given hour, what is the probability that 4 or less births occur?\n",
    "\n",
    "mu=4\n",
    "poisson.cdf(k=4, mu=4)"
   ]
  },
  {
   "cell_type": "code",
   "execution_count": 22,
   "id": "6c7494b9",
   "metadata": {},
   "outputs": [
    {
     "data": {
      "text/plain": [
       "0.30322385369689386"
      ]
     },
     "execution_count": 22,
     "metadata": {},
     "output_type": "execute_result"
    }
   ],
   "source": [
    "# An e-commerce website experiences an average of 10 credit card transactions per day.\n",
    "# What is the probability that there will be at least 12 credit card transactions in a given day?\n",
    "\n",
    "# P(x >= 12) --> 1- P(x < 12) --> 1 - P(x <= 11) --> 1  - cdf(k =11, mu)\n",
    "\n",
    "mu=10\n",
    "\n",
    "1-poisson.cdf(k=11, mu=mu)"
   ]
  },
  {
   "cell_type": "code",
   "execution_count": 27,
   "id": "446d5943",
   "metadata": {},
   "outputs": [
    {
     "data": {
      "text/plain": [
       "0.9662310318143443"
      ]
     },
     "execution_count": 27,
     "metadata": {},
     "output_type": "execute_result"
    }
   ],
   "source": [
    "\n",
    "'''\n",
    "Poisson Approximation to Binomial\n",
    "\n",
    "There are 80 students in a kinder garden class.\n",
    "Each one of them has 0.015 probability of forgetting their lunch on any given day.\n",
    "\n",
    "(a) What is the average or expected number of students who forgot lunch in the class?\n",
    "(b) What is the probability that exactly 3 of them will forget their lunch today?\n",
    "\n",
    "'''\n",
    "\n",
    "mu=80*0.015\n",
    "\n",
    "poisson.cdf(k=3, mu=mu)\n"
   ]
  },
  {
   "cell_type": "code",
   "execution_count": 26,
   "id": "58ab4ae2",
   "metadata": {},
   "outputs": [
    {
     "data": {
      "text/plain": [
       "0.9674096264431696"
      ]
     },
     "execution_count": 26,
     "metadata": {},
     "output_type": "execute_result"
    }
   ],
   "source": [
    "binom.cdf(n=80, p=0.015, k=3)"
   ]
  },
  {
   "cell_type": "code",
   "execution_count": 29,
   "id": "cb2210ec",
   "metadata": {},
   "outputs": [
    {
     "data": {
      "text/plain": [
       "0.9898141728888165"
      ]
     },
     "execution_count": 29,
     "metadata": {},
     "output_type": "execute_result"
    }
   ],
   "source": [
    "\"\"\"If electricity power failures occur according to a poisson distribution with an average of three failures every 20 weeks.\n",
    "\n",
    "Calculate the probability that there will not be more than one power failure during a week.\"\"\"\n",
    "\n",
    "mu=3*1/20\n",
    "\n",
    "poisson.cdf(k=1, mu=mu)"
   ]
  },
  {
   "cell_type": "code",
   "execution_count": 30,
   "id": "6522c9fa",
   "metadata": {},
   "outputs": [
    {
     "data": {
      "text/plain": [
       "0.2706705664732254"
      ]
     },
     "execution_count": 30,
     "metadata": {},
     "output_type": "execute_result"
    }
   ],
   "source": [
    "\"\"\"An observer counts 240 vehicles per hour (3600 seconds) at a specific vehicle arrival location on a highway.\n",
    "\n",
    "Assume that the arrivals follow the poisson distribution, What is the probability of one vehicle arriving over a 30-second time interval?\"\"\"\n",
    "\n",
    "mu=240*30/3600\n",
    "\n",
    "poisson.pmf(k=1, mu=mu)"
   ]
  },
  {
   "cell_type": "code",
   "execution_count": 34,
   "id": "8ac28006",
   "metadata": {},
   "outputs": [
    {
     "data": {
      "text/plain": [
       "0.3481394124789597"
      ]
     },
     "execution_count": 34,
     "metadata": {},
     "output_type": "execute_result"
    }
   ],
   "source": [
    "\"\"\"You go to a party of 500 guests. What is the probability that exactly one other guest has the same birthday as you?\n",
    "\n",
    "Note: Exclude birthdays on February 29.\"\"\"\n",
    "\n",
    "#poission approx to binom (because n is large p is small, mu=n*p)\n",
    "\n",
    "mu=500*1/365\n",
    "\n",
    "poisson.pmf(k=1, mu=mu)"
   ]
  },
  {
   "cell_type": "code",
   "execution_count": 35,
   "id": "7b996735",
   "metadata": {},
   "outputs": [
    {
     "data": {
      "text/plain": [
       "0.34844017001836897"
      ]
     },
     "execution_count": 35,
     "metadata": {},
     "output_type": "execute_result"
    }
   ],
   "source": [
    "binom.pmf(k=1, p=1/365, n=500)"
   ]
  }
 ],
 "metadata": {
  "kernelspec": {
   "display_name": "Python 3 (ipykernel)",
   "language": "python",
   "name": "python3"
  },
  "language_info": {
   "codemirror_mode": {
    "name": "ipython",
    "version": 3
   },
   "file_extension": ".py",
   "mimetype": "text/x-python",
   "name": "python",
   "nbconvert_exporter": "python",
   "pygments_lexer": "ipython3",
   "version": "3.11.4"
  }
 },
 "nbformat": 4,
 "nbformat_minor": 5
}
