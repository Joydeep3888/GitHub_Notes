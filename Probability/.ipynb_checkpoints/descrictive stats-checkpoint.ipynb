{
 "cells": [
  {
   "cell_type": "code",
   "execution_count": 3,
   "id": "027cd3be",
   "metadata": {},
   "outputs": [],
   "source": [
    "import numpy as np\n",
    "import pandas as pd\n",
    "import seaborn as sns\n",
    "import matplotlib.pyplot as plt\n",
    "from scipy.stats import poisson, norm\n",
    "\n",
    "from scipy.stats import geom, poisson, expon, binom\n",
    "\n",
    "#geom.cdf(p=0.05, k=2)"
   ]
  },
  {
   "cell_type": "code",
   "execution_count": null,
   "id": "76690ebf",
   "metadata": {},
   "outputs": [],
   "source": [
    "geom."
   ]
  },
  {
   "cell_type": "code",
   "execution_count": 17,
   "id": "5b46d1b5",
   "metadata": {},
   "outputs": [
    {
     "data": {
      "text/plain": [
       "45.34730425191832"
      ]
     },
     "execution_count": 17,
     "metadata": {},
     "output_type": "execute_result"
    }
   ],
   "source": [
    "mu=50\n",
    "std=2\n",
    "z=norm.ppf(1-0.99)\n",
    "z\n",
    "\n",
    "50+(z*2)"
   ]
  },
  {
   "cell_type": "code",
   "execution_count": 37,
   "id": "fa71fa31",
   "metadata": {},
   "outputs": [
    {
     "data": {
      "text/plain": [
       "0.7667200000000001"
      ]
     },
     "execution_count": 37,
     "metadata": {},
     "output_type": "execute_result"
    }
   ],
   "source": [
    "binom.cdf(k=4,n=6, p=0.6 )"
   ]
  },
  {
   "cell_type": "code",
   "execution_count": 39,
   "id": "32ac9352",
   "metadata": {},
   "outputs": [
    {
     "data": {
      "text/plain": [
       "0.7667200000000003"
      ]
     },
     "execution_count": 39,
     "metadata": {},
     "output_type": "execute_result"
    }
   ],
   "source": [
    "binom.pmf(k=0,n=6, p=0.6 )+binom.pmf(k=1,n=6, p=0.6 )+binom.pmf(k=2,n=6, p=0.6 )+binom.pmf(k=3,n=6, p=0.6 )+binom.pmf(k=4,n=6, p=0.6 )"
   ]
  },
  {
   "cell_type": "code",
   "execution_count": 31,
   "id": "cd952492",
   "metadata": {},
   "outputs": [
    {
     "data": {
      "text/plain": [
       "0.3481394124789597"
      ]
     },
     "execution_count": 31,
     "metadata": {},
     "output_type": "execute_result"
    }
   ],
   "source": [
    "poisson.pmf(k=1,mu=500*1/365)"
   ]
  },
  {
   "cell_type": "code",
   "execution_count": 36,
   "id": "449280fc",
   "metadata": {},
   "outputs": [
    {
     "data": {
      "text/plain": [
       "0.08"
      ]
     },
     "execution_count": 36,
     "metadata": {},
     "output_type": "execute_result"
    }
   ],
   "source": [
    "\n",
    "round(expon.cdf(x=6,scale=2),2)\n",
    "round(1-expon.cdf(x=5,scale=2),2)"
   ]
  },
  {
   "cell_type": "code",
   "execution_count": 5,
   "id": "b868456f",
   "metadata": {},
   "outputs": [
    {
     "data": {
      "text/plain": [
       "0.55"
      ]
     },
     "execution_count": 5,
     "metadata": {},
     "output_type": "execute_result"
    }
   ],
   "source": [
    "round(1-expon.cdf(x=600, scale=1000),2)"
   ]
  },
  {
   "cell_type": "code",
   "execution_count": 7,
   "id": "4dab8cc7",
   "metadata": {},
   "outputs": [
    {
     "data": {
      "text/plain": [
       "0.05"
      ]
     },
     "execution_count": 7,
     "metadata": {},
     "output_type": "execute_result"
    }
   ],
   "source": [
    "round(1-expon.cdf(x=6, scale=2),2)"
   ]
  },
  {
   "cell_type": "code",
   "execution_count": 8,
   "id": "96efe7a1",
   "metadata": {},
   "outputs": [
    {
     "data": {
      "text/plain": [
       "0.950212931632136"
      ]
     },
     "execution_count": 8,
     "metadata": {},
     "output_type": "execute_result"
    }
   ],
   "source": [
    "expon.cdf(x=6, scale=2)"
   ]
  },
  {
   "cell_type": "code",
   "execution_count": 3,
   "id": "17b8d64e",
   "metadata": {},
   "outputs": [
    {
     "data": {
      "text/plain": [
       "0.3011942119122022"
      ]
     },
     "execution_count": 3,
     "metadata": {},
     "output_type": "execute_result"
    }
   ],
   "source": [
    "1-expon.cdf(x=6, scale=5)"
   ]
  },
  {
   "cell_type": "code",
   "execution_count": null,
   "id": "ce0b92ea",
   "metadata": {},
   "outputs": [],
   "source": [
    "expon.cdf(x=20, scale=50)"
   ]
  },
  {
   "cell_type": "code",
   "execution_count": 5,
   "id": "2e7f8d7f",
   "metadata": {},
   "outputs": [
    {
     "data": {
      "text/plain": [
       "0.03125"
      ]
     },
     "execution_count": 5,
     "metadata": {},
     "output_type": "execute_result"
    }
   ],
   "source": [
    "1-geom.cdf(p=1/2, k=5)"
   ]
  },
  {
   "cell_type": "code",
   "execution_count": 22,
   "id": "6fad8418",
   "metadata": {},
   "outputs": [
    {
     "data": {
      "text/plain": [
       "0.9160820579686968"
      ]
     },
     "execution_count": 22,
     "metadata": {},
     "output_type": "execute_result"
    }
   ],
   "source": [
    "poisson.pmf(k=5, mu=3)+poisson.cdf(k=4, mu=3)"
   ]
  },
  {
   "cell_type": "code",
   "execution_count": 35,
   "id": "d0841a55",
   "metadata": {},
   "outputs": [
    {
     "data": {
      "text/plain": [
       "0.30322385369689386"
      ]
     },
     "execution_count": 35,
     "metadata": {},
     "output_type": "execute_result"
    }
   ],
   "source": [
    "1-poisson.cdf(k=11, mu=10)"
   ]
  },
  {
   "cell_type": "code",
   "execution_count": null,
   "id": "b465bb12",
   "metadata": {},
   "outputs": [],
   "source": []
  },
  {
   "cell_type": "code",
   "execution_count": 13,
   "id": "0230151b",
   "metadata": {},
   "outputs": [
    {
     "name": "stdout",
     "output_type": "stream",
     "text": [
      "-1.0\n",
      "-2.0\n"
     ]
    },
    {
     "data": {
      "text/plain": [
       "0.13590512198327787"
      ]
     },
     "execution_count": 13,
     "metadata": {},
     "output_type": "execute_result"
    }
   ],
   "source": [
    "std=7\n",
    "n=1000\n",
    "se=std/np.sqrt(n)\n",
    "mu=27\n",
    "z1=(20-27)/std\n",
    "print(z1)\n",
    "z2=(13-27)/std\n",
    "print(z2)\n",
    "(1-norm.cdf(-2))-(1-norm.cdf(-1))\n",
    "\n"
   ]
  },
  {
   "cell_type": "code",
   "execution_count": 22,
   "id": "375f8858",
   "metadata": {},
   "outputs": [
    {
     "data": {
      "text/plain": [
       "0.30869999999999986"
      ]
     },
     "execution_count": 22,
     "metadata": {},
     "output_type": "execute_result"
    }
   ],
   "source": [
    "binom.pmf(n=5, k=3, p=0.7)"
   ]
  },
  {
   "cell_type": "code",
   "execution_count": 23,
   "id": "c83a3dc0",
   "metadata": {},
   "outputs": [
    {
     "data": {
      "text/plain": [
       "0.6666666666666666"
      ]
     },
     "execution_count": 23,
     "metadata": {},
     "output_type": "execute_result"
    }
   ],
   "source": [
    "1/2+1/3-1/6"
   ]
  },
  {
   "cell_type": "code",
   "execution_count": 21,
   "id": "2d6fd4aa",
   "metadata": {},
   "outputs": [
    {
     "data": {
      "text/plain": [
       "0.264"
      ]
     },
     "execution_count": 21,
     "metadata": {},
     "output_type": "execute_result"
    }
   ],
   "source": [
    "((0.22)*0.36)/0.3"
   ]
  },
  {
   "cell_type": "code",
   "execution_count": 14,
   "id": "f639ac60",
   "metadata": {},
   "outputs": [
    {
     "data": {
      "text/plain": [
       "1350.0"
      ]
     },
     "execution_count": 14,
     "metadata": {},
     "output_type": "execute_result"
    }
   ],
   "source": [
    "0.135*10000"
   ]
  },
  {
   "cell_type": "code",
   "execution_count": 15,
   "id": "0319b625",
   "metadata": {},
   "outputs": [
    {
     "data": {
      "text/plain": [
       "0.9700000000000001"
      ]
     },
     "execution_count": 15,
     "metadata": {},
     "output_type": "execute_result"
    }
   ],
   "source": [
    "0.9+0.7-(0.9*0.7)"
   ]
  },
  {
   "cell_type": "code",
   "execution_count": 6,
   "id": "f6ea3745",
   "metadata": {},
   "outputs": [
    {
     "data": {
      "text/plain": [
       "0.9771032071594303"
      ]
     },
     "execution_count": 6,
     "metadata": {},
     "output_type": "execute_result"
    }
   ],
   "source": [
    "std=0.07\n",
    "n=50\n",
    "se=std/np.sqrt(n)\n",
    "z1=(0.31-0.28)/se\n",
    "z2=(0.26-0.28)/se\n",
    "norm.cdf(z1)-norm.cdf(z2)"
   ]
  },
  {
   "cell_type": "code",
   "execution_count": 15,
   "id": "102cbbd1",
   "metadata": {},
   "outputs": [
    {
     "name": "stdout",
     "output_type": "stream",
     "text": [
      "-2.23606797749979\n"
     ]
    },
    {
     "data": {
      "text/plain": [
       "0.012673659338734126"
      ]
     },
     "execution_count": 15,
     "metadata": {},
     "output_type": "execute_result"
    }
   ],
   "source": [
    "std=50\n",
    "n=20\n",
    "se=std/np.sqrt(n)\n",
    "z1=(875-900)/se\n",
    "print(z1)\n",
    "norm.cdf(z1)"
   ]
  },
  {
   "cell_type": "code",
   "execution_count": 17,
   "id": "0ef0949c",
   "metadata": {},
   "outputs": [
    {
     "name": "stdout",
     "output_type": "stream",
     "text": [
      "-1.2512465491115852\n"
     ]
    },
    {
     "data": {
      "text/plain": [
       "0.10542226996329152"
      ]
     },
     "execution_count": 17,
     "metadata": {},
     "output_type": "execute_result"
    }
   ],
   "source": [
    "std=188\n",
    "n=20\n",
    "se=std/np.sqrt(n)\n",
    "z1=(947.4-1000)/se\n",
    "print(z1)\n",
    "norm.cdf(z1)"
   ]
  },
  {
   "cell_type": "code",
   "execution_count": 16,
   "id": "5df2172c",
   "metadata": {},
   "outputs": [
    {
     "name": "stdout",
     "output_type": "stream",
     "text": [
      "2.23606797749979\n"
     ]
    },
    {
     "data": {
      "text/plain": [
       "0.9873263406612659"
      ]
     },
     "execution_count": 16,
     "metadata": {},
     "output_type": "execute_result"
    }
   ],
   "source": [
    "std=0.5\n",
    "n=5\n",
    "se=std/np.sqrt(n)\n",
    "z1=(5.5-5)/se\n",
    "print(z1)\n",
    "norm.cdf(z1)"
   ]
  },
  {
   "cell_type": "code",
   "execution_count": 11,
   "id": "14c5d4e2",
   "metadata": {},
   "outputs": [
    {
     "name": "stdout",
     "output_type": "stream",
     "text": [
      "1.959963984540054\n",
      "-1.9599639845400545\n",
      "25.567971187632043 22.432028812367957\n"
     ]
    }
   ],
   "source": [
    "std=8\n",
    "n=100\n",
    "se=std/np.sqrt(n)\n",
    "z1=norm.ppf(0.025)\n",
    "z2=norm.ppf(1-0.025)\n",
    "print(z2)\n",
    "print(z1)\n",
    "mu=24\n",
    "mu1=mu+(z2)*se\n",
    "mu2=mu-(z2)*se\n",
    "print(mu1,mu2)"
   ]
  },
  {
   "cell_type": "code",
   "execution_count": 18,
   "id": "6d6a16c6",
   "metadata": {},
   "outputs": [
    {
     "name": "stdout",
     "output_type": "stream",
     "text": [
      "1.6448536269514722\n",
      "-1.6448536269514729\n",
      "166.31588290156117 163.68411709843883\n"
     ]
    }
   ],
   "source": [
    "std=8\n",
    "n=100\n",
    "se=std/np.sqrt(n)\n",
    "z1=norm.ppf(0.05)\n",
    "z2=norm.ppf(1-0.05)\n",
    "print(z2)\n",
    "print(z1)\n",
    "mu=165\n",
    "mu1=mu+(z2)*se\n",
    "mu2=mu-(z2)*se\n",
    "print(mu1,mu2)"
   ]
  },
  {
   "cell_type": "code",
   "execution_count": 13,
   "id": "a7d2e575",
   "metadata": {},
   "outputs": [
    {
     "name": "stdout",
     "output_type": "stream",
     "text": [
      "1.6448536269514722\n",
      "-1.6448536269514729\n",
      "73.35514637304853 76.64485362695147\n"
     ]
    }
   ],
   "source": [
    "std=10\n",
    "n=100\n",
    "se=std/np.sqrt(n)\n",
    "z1=norm.ppf(0.05)\n",
    "z2=norm.ppf(1-0.05)\n",
    "print(z2)\n",
    "print(z1)\n",
    "mu=75\n",
    "mu1=mu+(z1)*se\n",
    "mu2=mu-(z1)*se\n",
    "print(mu1,mu2)"
   ]
  },
  {
   "cell_type": "code",
   "execution_count": 4,
   "id": "ef5b8d7c",
   "metadata": {},
   "outputs": [
    {
     "name": "stdout",
     "output_type": "stream",
     "text": [
      "File downloaded successfully!\n"
     ]
    }
   ],
   "source": [
    "import requests\n",
    "\n",
    "# URL of the file you want to download\n",
    "url = 'https://d2beiqkhq929f0.cloudfront.net/public_assets/assets/000/035/130/original/sehwag.csv?1684996594'\n",
    "\n",
    "# Send a GET request to the URL\n",
    "response = requests.get(url)\n",
    "\n",
    "# Check if the request was successful\n",
    "if response.status_code == 200:\n",
    "    # Open a file in write-binary mode ('wb') and write the content of the response\n",
    "    with open('sehwag.csv', 'wb') as file:\n",
    "        file.write(response.content)\n",
    "        sehwag = pd.read_csv(\"sehwag.csv\")\n",
    "        sehwag.head()\n",
    "    print(\"File downloaded successfully!\")\n",
    "else:\n",
    "    print(\"Failed to download the file. Status code:\", response.status_code)\n"
   ]
  },
  {
   "cell_type": "code",
   "execution_count": 6,
   "id": "7d20de75",
   "metadata": {},
   "outputs": [
    {
     "data": {
      "text/html": [
       "<div>\n",
       "<style scoped>\n",
       "    .dataframe tbody tr th:only-of-type {\n",
       "        vertical-align: middle;\n",
       "    }\n",
       "\n",
       "    .dataframe tbody tr th {\n",
       "        vertical-align: top;\n",
       "    }\n",
       "\n",
       "    .dataframe thead th {\n",
       "        text-align: right;\n",
       "    }\n",
       "</style>\n",
       "<table border=\"1\" class=\"dataframe\">\n",
       "  <thead>\n",
       "    <tr style=\"text-align: right;\">\n",
       "      <th></th>\n",
       "      <th>Runs</th>\n",
       "      <th>Mins</th>\n",
       "      <th>BF</th>\n",
       "      <th>4s</th>\n",
       "      <th>6s</th>\n",
       "      <th>SR</th>\n",
       "      <th>Pos</th>\n",
       "      <th>Dismissal</th>\n",
       "      <th>Inns</th>\n",
       "      <th>Unnamed: 9</th>\n",
       "      <th>Opposition</th>\n",
       "      <th>Ground</th>\n",
       "      <th>Start Date</th>\n",
       "      <th>Unnamed: 13</th>\n",
       "    </tr>\n",
       "  </thead>\n",
       "  <tbody>\n",
       "    <tr>\n",
       "      <th>0</th>\n",
       "      <td>1</td>\n",
       "      <td>5</td>\n",
       "      <td>2</td>\n",
       "      <td>0</td>\n",
       "      <td>0</td>\n",
       "      <td>50.00</td>\n",
       "      <td>7</td>\n",
       "      <td>lbw</td>\n",
       "      <td>1</td>\n",
       "      <td>NaN</td>\n",
       "      <td>v Pakistan</td>\n",
       "      <td>Mohali</td>\n",
       "      <td>1 Apr 1999</td>\n",
       "      <td>ODI # 1427</td>\n",
       "    </tr>\n",
       "    <tr>\n",
       "      <th>1</th>\n",
       "      <td>19</td>\n",
       "      <td>18</td>\n",
       "      <td>24</td>\n",
       "      <td>0</td>\n",
       "      <td>1</td>\n",
       "      <td>79.16</td>\n",
       "      <td>6</td>\n",
       "      <td>caught</td>\n",
       "      <td>1</td>\n",
       "      <td>NaN</td>\n",
       "      <td>v Zimbabwe</td>\n",
       "      <td>Rajkot</td>\n",
       "      <td>14 Dec 2000</td>\n",
       "      <td>ODI # 1660</td>\n",
       "    </tr>\n",
       "    <tr>\n",
       "      <th>2</th>\n",
       "      <td>58</td>\n",
       "      <td>62</td>\n",
       "      <td>54</td>\n",
       "      <td>8</td>\n",
       "      <td>0</td>\n",
       "      <td>107.40</td>\n",
       "      <td>6</td>\n",
       "      <td>bowled</td>\n",
       "      <td>1</td>\n",
       "      <td>NaN</td>\n",
       "      <td>v Australia</td>\n",
       "      <td>Bengaluru</td>\n",
       "      <td>25 Mar 2001</td>\n",
       "      <td>ODI # 1696</td>\n",
       "    </tr>\n",
       "    <tr>\n",
       "      <th>3</th>\n",
       "      <td>2</td>\n",
       "      <td>7</td>\n",
       "      <td>7</td>\n",
       "      <td>0</td>\n",
       "      <td>0</td>\n",
       "      <td>28.57</td>\n",
       "      <td>6</td>\n",
       "      <td>caught</td>\n",
       "      <td>2</td>\n",
       "      <td>NaN</td>\n",
       "      <td>v Zimbabwe</td>\n",
       "      <td>Bulawayo</td>\n",
       "      <td>27 Jun 2001</td>\n",
       "      <td>ODI # 1730</td>\n",
       "    </tr>\n",
       "    <tr>\n",
       "      <th>4</th>\n",
       "      <td>11</td>\n",
       "      <td>19</td>\n",
       "      <td>16</td>\n",
       "      <td>1</td>\n",
       "      <td>0</td>\n",
       "      <td>68.75</td>\n",
       "      <td>6</td>\n",
       "      <td>not out</td>\n",
       "      <td>2</td>\n",
       "      <td>NaN</td>\n",
       "      <td>v West Indies</td>\n",
       "      <td>Bulawayo</td>\n",
       "      <td>30 Jun 2001</td>\n",
       "      <td>ODI # 1731</td>\n",
       "    </tr>\n",
       "  </tbody>\n",
       "</table>\n",
       "</div>"
      ],
      "text/plain": [
       "   Runs Mins  BF  4s  6s      SR  Pos Dismissal  Inns  Unnamed: 9  \\\n",
       "0     1    5   2   0   0   50.00    7       lbw     1         NaN   \n",
       "1    19   18  24   0   1   79.16    6    caught     1         NaN   \n",
       "2    58   62  54   8   0  107.40    6    bowled     1         NaN   \n",
       "3     2    7   7   0   0   28.57    6    caught     2         NaN   \n",
       "4    11   19  16   1   0   68.75    6   not out     2         NaN   \n",
       "\n",
       "      Opposition     Ground   Start Date Unnamed: 13  \n",
       "0     v Pakistan     Mohali   1 Apr 1999  ODI # 1427  \n",
       "1     v Zimbabwe     Rajkot  14 Dec 2000  ODI # 1660  \n",
       "2    v Australia  Bengaluru  25 Mar 2001  ODI # 1696  \n",
       "3     v Zimbabwe   Bulawayo  27 Jun 2001  ODI # 1730  \n",
       "4  v West Indies   Bulawayo  30 Jun 2001  ODI # 1731  "
      ]
     },
     "execution_count": 6,
     "metadata": {},
     "output_type": "execute_result"
    }
   ],
   "source": [
    "sehwag.head()"
   ]
  },
  {
   "cell_type": "code",
   "execution_count": 9,
   "id": "77b90499",
   "metadata": {},
   "outputs": [
    {
     "data": {
      "text/plain": [
       "count    245.000000\n",
       "mean      33.767347\n",
       "std       34.809419\n",
       "min        0.000000\n",
       "25%        8.000000\n",
       "50%       23.000000\n",
       "75%       46.000000\n",
       "max      219.000000\n",
       "Name: Runs, dtype: float64"
      ]
     },
     "execution_count": 9,
     "metadata": {},
     "output_type": "execute_result"
    }
   ],
   "source": [
    "sehwag[\"Runs\"].describe()"
   ]
  },
  {
   "cell_type": "code",
   "execution_count": 10,
   "id": "8bb646b2",
   "metadata": {},
   "outputs": [
    {
     "data": {
      "text/plain": [
       "count    245.000000\n",
       "mean      33.767347\n",
       "std       34.809419\n",
       "min        0.000000\n",
       "25%        8.000000\n",
       "50%       23.000000\n",
       "75%       46.000000\n",
       "max      219.000000\n",
       "Name: Runs, dtype: float64"
      ]
     },
     "execution_count": 10,
     "metadata": {},
     "output_type": "execute_result"
    }
   ],
   "source": [
    "sehwag[\"Runs\"].describe()"
   ]
  },
  {
   "cell_type": "code",
   "execution_count": 11,
   "id": "3c7ec922",
   "metadata": {},
   "outputs": [
    {
     "name": "stdout",
     "output_type": "stream",
     "text": [
      "Requirement already satisfied: scipy in c:\\programdata\\anaconda3\\lib\\site-packages (1.7.1)Note: you may need to restart the kernel to use updated packages.\n",
      "\n",
      "Requirement already satisfied: numpy<1.23.0,>=1.16.5 in c:\\programdata\\anaconda3\\lib\\site-packages (from scipy) (1.20.3)\n"
     ]
    },
    {
     "name": "stderr",
     "output_type": "stream",
     "text": [
      "WARNING: Ignoring invalid distribution -ikit-learn (c:\\programdata\\anaconda3\\lib\\site-packages)\n",
      "WARNING: Ignoring invalid distribution -umpy (c:\\programdata\\anaconda3\\lib\\site-packages)\n",
      "WARNING: Ignoring invalid distribution - (c:\\programdata\\anaconda3\\lib\\site-packages)\n",
      "WARNING: Ignoring invalid distribution -cikit-learn (c:\\programdata\\anaconda3\\lib\\site-packages)\n",
      "WARNING: Ignoring invalid distribution -arkupsafe (c:\\programdata\\anaconda3\\lib\\site-packages)\n",
      "WARNING: Ignoring invalid distribution -ikit-learn (c:\\programdata\\anaconda3\\lib\\site-packages)\n",
      "WARNING: Ignoring invalid distribution -umpy (c:\\programdata\\anaconda3\\lib\\site-packages)\n",
      "WARNING: Ignoring invalid distribution - (c:\\programdata\\anaconda3\\lib\\site-packages)\n",
      "WARNING: Ignoring invalid distribution -cikit-learn (c:\\programdata\\anaconda3\\lib\\site-packages)\n",
      "WARNING: Ignoring invalid distribution -arkupsafe (c:\\programdata\\anaconda3\\lib\\site-packages)\n",
      "WARNING: Ignoring invalid distribution -ikit-learn (c:\\programdata\\anaconda3\\lib\\site-packages)\n",
      "WARNING: Ignoring invalid distribution -umpy (c:\\programdata\\anaconda3\\lib\\site-packages)\n",
      "WARNING: Ignoring invalid distribution - (c:\\programdata\\anaconda3\\lib\\site-packages)\n",
      "WARNING: Ignoring invalid distribution -cikit-learn (c:\\programdata\\anaconda3\\lib\\site-packages)\n",
      "WARNING: Ignoring invalid distribution -arkupsafe (c:\\programdata\\anaconda3\\lib\\site-packages)\n",
      "WARNING: Ignoring invalid distribution -ikit-learn (c:\\programdata\\anaconda3\\lib\\site-packages)\n",
      "WARNING: Ignoring invalid distribution -umpy (c:\\programdata\\anaconda3\\lib\\site-packages)\n",
      "WARNING: Ignoring invalid distribution - (c:\\programdata\\anaconda3\\lib\\site-packages)\n",
      "WARNING: Ignoring invalid distribution -cikit-learn (c:\\programdata\\anaconda3\\lib\\site-packages)\n",
      "WARNING: Ignoring invalid distribution -arkupsafe (c:\\programdata\\anaconda3\\lib\\site-packages)\n",
      "WARNING: Ignoring invalid distribution -ikit-learn (c:\\programdata\\anaconda3\\lib\\site-packages)\n",
      "WARNING: Ignoring invalid distribution -umpy (c:\\programdata\\anaconda3\\lib\\site-packages)\n",
      "WARNING: Ignoring invalid distribution - (c:\\programdata\\anaconda3\\lib\\site-packages)\n",
      "WARNING: Ignoring invalid distribution -cikit-learn (c:\\programdata\\anaconda3\\lib\\site-packages)\n",
      "WARNING: Ignoring invalid distribution -arkupsafe (c:\\programdata\\anaconda3\\lib\\site-packages)\n",
      "WARNING: Ignoring invalid distribution -ikit-learn (c:\\programdata\\anaconda3\\lib\\site-packages)\n",
      "WARNING: Ignoring invalid distribution -umpy (c:\\programdata\\anaconda3\\lib\\site-packages)\n",
      "WARNING: Ignoring invalid distribution - (c:\\programdata\\anaconda3\\lib\\site-packages)\n",
      "WARNING: Ignoring invalid distribution -cikit-learn (c:\\programdata\\anaconda3\\lib\\site-packages)\n",
      "WARNING: Ignoring invalid distribution -arkupsafe (c:\\programdata\\anaconda3\\lib\\site-packages)\n"
     ]
    }
   ],
   "source": [
    "pip install scipy\n"
   ]
  },
  {
   "cell_type": "code",
   "execution_count": 12,
   "id": "cee89793",
   "metadata": {},
   "outputs": [],
   "source": [
    "from scipy.stats import binom\n",
    "import matplotlib.pyplot as plt\n"
   ]
  },
  {
   "cell_type": "code",
   "execution_count": 24,
   "id": "2131176c",
   "metadata": {},
   "outputs": [
    {
     "data": {
      "text/plain": [
       "0.22412490844726585"
      ]
     },
     "execution_count": 24,
     "metadata": {},
     "output_type": "execute_result"
    }
   ],
   "source": [
    "p0=binom.pmf(n=10, p=1/4, k=0)\n",
    "p1=binom.pmf(n=10, p=1/4, k=1)\n",
    "p2=binom.pmf(n=10, p=1/4, k=2)\n",
    "p3=binom.pmf(n=10, p=1/4, k=3)\n",
    "(1-(p0+p1+p2+p3))"
   ]
  },
  {
   "cell_type": "code",
   "execution_count": 22,
   "id": "bebebe24",
   "metadata": {},
   "outputs": [
    {
     "data": {
      "text/plain": [
       "0.22412490844726562"
      ]
     },
     "execution_count": 22,
     "metadata": {},
     "output_type": "execute_result"
    }
   ],
   "source": [
    "p=1-binom.cdf(n=10, p=1/4, k=3)\n",
    "p"
   ]
  },
  {
   "cell_type": "code",
   "execution_count": 2,
   "id": "a8c1bd79",
   "metadata": {},
   "outputs": [],
   "source": [
    "from scipy.stats import poisson\n",
    "mu=(8/60)*10"
   ]
  },
  {
   "cell_type": "code",
   "execution_count": 5,
   "id": "a5a064f7",
   "metadata": {},
   "outputs": [
    {
     "data": {
      "text/plain": [
       "0.8493685561506752"
      ]
     },
     "execution_count": 5,
     "metadata": {},
     "output_type": "execute_result"
    }
   ],
   "source": [
    "poisson.cdf(k=2, mu=mu)"
   ]
  },
  {
   "cell_type": "code",
   "execution_count": 6,
   "id": "c9629ade",
   "metadata": {},
   "outputs": [],
   "source": [
    "mu2=(8/60)*45"
   ]
  },
  {
   "cell_type": "code",
   "execution_count": 10,
   "id": "e5b53b99",
   "metadata": {},
   "outputs": [
    {
     "data": {
      "text/plain": [
       "0.5543203586353891"
      ]
     },
     "execution_count": 10,
     "metadata": {},
     "output_type": "execute_result"
    }
   ],
   "source": [
    "1-poisson.cdf(k=5, mu=mu2)"
   ]
  }
 ],
 "metadata": {
  "kernelspec": {
   "display_name": "Python 3 (ipykernel)",
   "language": "python",
   "name": "python3"
  },
  "language_info": {
   "codemirror_mode": {
    "name": "ipython",
    "version": 3
   },
   "file_extension": ".py",
   "mimetype": "text/x-python",
   "name": "python",
   "nbconvert_exporter": "python",
   "pygments_lexer": "ipython3",
   "version": "3.9.7"
  }
 },
 "nbformat": 4,
 "nbformat_minor": 5
}
