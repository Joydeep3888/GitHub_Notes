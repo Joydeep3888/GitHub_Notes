{
 "cells": [
  {
   "cell_type": "markdown",
   "id": "f6c43d6f-20d8-409b-97dd-ee63eb52376d",
   "metadata": {},
   "source": [
    "An unknown distribution has a mean of 90 and a standard deviation of 15.\n",
    "\n",
    "Samples of size n = 35 are drawn randomly from the population.\n",
    "\n",
    "Find the probability that the sample mean is between 85 and 92.\n",
    "\n",
    "(Round off the answer to 4 decimal points)"
   ]
  },
  {
   "cell_type": "code",
   "execution_count": 4,
   "id": "dedd886a-ae87-4bc5-9c00-26cf8a7108be",
   "metadata": {},
   "outputs": [],
   "source": [
    "from scipy.stats import norm\n",
    "import numpy as np"
   ]
  },
  {
   "cell_type": "code",
   "execution_count": 6,
   "id": "a7be0448-6273-441b-8e62-acd2c0fe5aac",
   "metadata": {},
   "outputs": [
    {
     "name": "stdout",
     "output_type": "stream",
     "text": [
      "-1.9720265943665387 0.7888106377466154\n"
     ]
    },
    {
     "data": {
      "text/plain": [
       "0.7606"
      ]
     },
     "execution_count": 6,
     "metadata": {},
     "output_type": "execute_result"
    }
   ],
   "source": [
    "mu=90\n",
    "std=15\n",
    "n=35\n",
    "x1=85\n",
    "x2=92\n",
    "\n",
    "z1=(x1-mu)/(std/np.sqrt(35))\n",
    "z2=(x2-mu)/(std/np.sqrt(35))\n",
    "\n",
    "print(z1,z2)\n",
    "\n",
    "np.round(norm.cdf(z2)-norm.cdf(z1),4)"
   ]
  },
  {
   "cell_type": "markdown",
   "id": "0cf2eadc-7bd1-461e-bedb-8813e9a2d2cf",
   "metadata": {},
   "source": [
    "Can we apply Central Limit theorem if we don't know the population standard deviation ?"
   ]
  },
  {
   "cell_type": "markdown",
   "id": "56ef713e-788a-40d8-bbb5-24b7e2e6bb59",
   "metadata": {},
   "source": [
    "We can apply CLT even if we don’t know the population standard deviation,\n",
    "\n",
    "We can use sample standard deviation as proxy.\n",
    "\n",
    "The Central Limit Theorem (CLT) is not limited to populations following a normal distribution. One of the key insights of the CLT is that, regardless of the shape of the population distribution, the sampling distribution of the sample mean becomes approximately normally distributed as the sample size increases. This is true for a wide range of population distributions, including those that are not normally distributed.\n",
    "\n",
    "In practice, as long as certain conditions of random sampling, independence, and an adequately large sample size are met, the CLT allows us to make approximations using the normal distribution even for populations that do not have a normal distribution. This is why the CLT is such a powerful tool in statistics because it allows us to perform inferential statistics and hypothesis testing in a wide variety of real-world scenarios, even when we don’t know the exact shape of the population distribution."
   ]
  },
  {
   "cell_type": "markdown",
   "id": "97513d32-2b80-474b-9c11-d197d420eb41",
   "metadata": {},
   "source": [
    "The tip percentage for a delivery person has a mean value of 28% and a standard deviation of 7%.\n",
    "\n",
    "What is the probability that the sample mean tip percentage for a random sample of 50 bills is between 26% and 31%?"
   ]
  },
  {
   "cell_type": "code",
   "execution_count": 13,
   "id": "05d073fe-8b1f-4f94-8d27-377ea915d29e",
   "metadata": {},
   "outputs": [
    {
     "name": "stdout",
     "output_type": "stream",
     "text": [
      "-2.0203050891044216 3.0304576336566322\n"
     ]
    },
    {
     "data": {
      "text/plain": [
       "0.9771032071594303"
      ]
     },
     "execution_count": 13,
     "metadata": {},
     "output_type": "execute_result"
    }
   ],
   "source": [
    "mu=28\n",
    "std=7\n",
    "x1=26\n",
    "n=50\n",
    "x2=31\n",
    "\n",
    "z1=(x1-mu)/(std/np.sqrt(50))\n",
    "z2=(x2-mu)/(std/np.sqrt(50))\n",
    "\n",
    "print(z1, z2)\n",
    "\n",
    "p=norm.cdf(z2)-norm.cdf(z1)\n",
    "p"
   ]
  },
  {
   "cell_type": "markdown",
   "id": "7661f782-ac36-4264-833c-5cde8d42ab0e",
   "metadata": {},
   "source": [
    "You are working for the Department of Endangered Species. Along with your team, you have bred a certain species of endangered fish in your pond.\n",
    "\n",
    "On taking a sample of 100 fishes, the calculated average length of this species came out to be 24cm. It is known that the population standard deviation in the length of these fishes is 8cm.\n",
    "\n",
    "\n",
    "Estimate the mean length confidence interval of the fishes in the pond with a confidence of 95 percent.\n",
    "\n",
    "Note: z-multiplier for 95% is 1.96."
   ]
  },
  {
   "cell_type": "code",
   "execution_count": 15,
   "id": "bfb944d9-1765-47c6-9396-a080dfc94156",
   "metadata": {},
   "outputs": [
    {
     "name": "stdout",
     "output_type": "stream",
     "text": [
      "25.568 22.432\n"
     ]
    }
   ],
   "source": [
    "n=100\n",
    "mu=24\n",
    "std=8\n",
    "z=1.96\n",
    "se=std/np.sqrt(n)\n",
    "\n",
    "x=se*z+mu\n",
    "x2=mu-z*se\n",
    "\n",
    "print(x,x2)"
   ]
  },
  {
   "cell_type": "markdown",
   "id": "6523f05e-88de-4c5b-8936-c81f82b2f163",
   "metadata": {},
   "source": [
    "A company wants to estimate the average purchase amount made by customers on their e-commerce platform.\n",
    "They collect a random sample of 100 transactions and found that the average purchase amount is $75 with a standard deviation of $10. Construct a 90% confidence interval for the true average purchase amount."
   ]
  },
  {
   "cell_type": "code",
   "execution_count": 19,
   "id": "49179371-26c4-4b94-9e8d-d97aed8f1521",
   "metadata": {},
   "outputs": [
    {
     "name": "stdout",
     "output_type": "stream",
     "text": [
      "-1.6448536269514729 1.6448536269514722\n",
      "1.0\n",
      "73.36 76.64\n"
     ]
    }
   ],
   "source": [
    "mu=75\n",
    "n=100\n",
    "std=10\n",
    "\n",
    "z1=norm.ppf(0.05)\n",
    "z2=norm.ppf(1-0.05)\n",
    "print(z1,z2)\n",
    "\n",
    "se=std/np.sqrt(n)\n",
    "print(se)\n",
    "\n",
    "x=se*z1+mu\n",
    "x2=mu+se*z2\n",
    "\n",
    "print(round(x,2),round(x2,2))"
   ]
  },
  {
   "cell_type": "markdown",
   "id": "fdfe1fb4-f3b7-4ce6-a966-879eb7602210",
   "metadata": {},
   "source": [
    "A paint manufacturer in Delhi claims that his paint lasts for 5 years, on an average.\n",
    "\n",
    "Assuming that paint life is normally distributed and has a standard deviation of 0.5 years.\n",
    "\n",
    "If you randomly select 5 houses, what is the probability that the average paint life from these houses is less than 5.5 years ?"
   ]
  },
  {
   "cell_type": "code",
   "execution_count": 26,
   "id": "8417ffa8-4dae-47b8-b3db-c9d26bb8bed2",
   "metadata": {},
   "outputs": [
    {
     "name": "stdout",
     "output_type": "stream",
     "text": [
      "2.23606797749979\n"
     ]
    },
    {
     "data": {
      "text/plain": [
       "0.9873263406612659"
      ]
     },
     "execution_count": 26,
     "metadata": {},
     "output_type": "execute_result"
    }
   ],
   "source": [
    "mu=5\n",
    "std=0.5\n",
    "n=5\n",
    "#x(p<5.5)=?\n",
    "\n",
    "x=5.5\n",
    "z=(x-mu)/(std/np.sqrt(n))\n",
    "print(z)\n",
    "\n",
    "norm.cdf(z)"
   ]
  },
  {
   "cell_type": "markdown",
   "id": "c59c6c47-63f1-45f6-ae02-3e9ae4daafbd",
   "metadata": {},
   "source": [
    "The average calcium intake for adults (ages 19–50) is 1000 milligrams (mg) per day.\n",
    "\n",
    "Assuming that we take a sample of 35 such adults, what percentage of them have a mean calcium intake of at most 947.4mg?\n",
    "\n",
    "Assume population standard deviation (σ) = 188 mg"
   ]
  },
  {
   "cell_type": "code",
   "execution_count": 32,
   "id": "a49f2f93-dad1-4a5e-b13b-b41ed11c3fe3",
   "metadata": {},
   "outputs": [
    {
     "name": "stdout",
     "output_type": "stream",
     "text": [
      "-1.6552435988885104\n"
     ]
    },
    {
     "data": {
      "text/plain": [
       "4.893754729607754"
      ]
     },
     "execution_count": 32,
     "metadata": {},
     "output_type": "execute_result"
    }
   ],
   "source": [
    "mu=1000\n",
    "n=35\n",
    "x=947.4\n",
    "std=188\n",
    "\n",
    "z=(x-mu)/(std/(np.sqrt(n)))\n",
    "print(z)\n",
    "\n",
    "norm.cdf(z)*100"
   ]
  },
  {
   "cell_type": "markdown",
   "id": "82db3cf3-58e8-4914-b3bc-0a8cdc58208d",
   "metadata": {},
   "source": [
    "The life of LED light bulbs manufactured in a factory is normally distributed with a mean equal to 900 hours and a standard deviation of 50 hours.\n",
    "\n",
    "Find the probability that a random sample of 20 bulbs will have an average life of less than 875 hours.\n",
    "\n",
    "(Round off the answer to 4 decimal points)"
   ]
  },
  {
   "cell_type": "code",
   "execution_count": 34,
   "id": "b08e51b9-9b08-4ad5-a755-adb4d07449fd",
   "metadata": {},
   "outputs": [
    {
     "name": "stdout",
     "output_type": "stream",
     "text": [
      "-2.23606797749979\n"
     ]
    },
    {
     "data": {
      "text/plain": [
       "1.2674"
      ]
     },
     "execution_count": 34,
     "metadata": {},
     "output_type": "execute_result"
    }
   ],
   "source": [
    "mu=900\n",
    "std=50\n",
    "n=20\n",
    "x=875\n",
    "\n",
    "z=(x-mu)/(std/(np.sqrt(n)))\n",
    "print(z)\n",
    "\n",
    "round(norm.cdf(z)*100,4)"
   ]
  },
  {
   "cell_type": "markdown",
   "id": "1e4ac1cf-f2b4-45cf-b106-c586e796f77f",
   "metadata": {},
   "source": [
    "The mean height of a sample of 100 adults was found to be 165 cm. The population standard deviation for height of adults is known to be 8 cm.\n",
    "\n",
    "Construct a 90% confidence interval for the true mean height of the adult population."
   ]
  },
  {
   "cell_type": "code",
   "execution_count": 40,
   "id": "5c2e05b1-5ac7-426a-a525-c11b0e4566db",
   "metadata": {},
   "outputs": [
    {
     "name": "stdout",
     "output_type": "stream",
     "text": [
      "-1.6448536269514729 2.644853626951473\n",
      "163.68411709843883 167.11588290156118\n"
     ]
    }
   ],
   "source": [
    "n=100\n",
    "mu=165\n",
    "std=8\n",
    "se=std/np.sqrt(100)\n",
    "z=norm.ppf((1-0.9)/2)\n",
    "z1=1-norm.ppf((1-0.9)/2)\n",
    "print(z,z1)\n",
    "\n",
    "x1=se*z+mu\n",
    "x2=se*z1+mu\n",
    "\n",
    "print(x1,x2)"
   ]
  }
 ],
 "metadata": {
  "kernelspec": {
   "display_name": "Python 3 (ipykernel)",
   "language": "python",
   "name": "python3"
  },
  "language_info": {
   "codemirror_mode": {
    "name": "ipython",
    "version": 3
   },
   "file_extension": ".py",
   "mimetype": "text/x-python",
   "name": "python",
   "nbconvert_exporter": "python",
   "pygments_lexer": "ipython3",
   "version": "3.11.4"
  }
 },
 "nbformat": 4,
 "nbformat_minor": 5
}
